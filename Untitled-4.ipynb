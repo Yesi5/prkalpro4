{
 "cells": [
  {
   "cell_type": "code",
   "execution_count": 5,
   "metadata": {},
   "outputs": [
    {
     "name": "stdout",
     "output_type": "stream",
     "text": [
      "True\n",
      "False\n",
      "False\n"
     ]
    }
   ],
   "source": [
    "def cek_angka(a, b, c):\n",
    "    # Memeriksa apakah ketiga parameter berbeda\n",
    "    if a != b and b != c and a != c:\n",
    "        # Memeriksa apakah ada dua parameter yang jika dijumlahkan hasilnya sama dengan parameter lainnya\n",
    "        if a + b == c or b + c == a or a + c == b:\n",
    "            return True\n",
    "        else:\n",
    "            return False\n",
    "    else:\n",
    "        return False\n",
    "    \n",
    "print(cek_angka(3, 4, 7))\n",
    "print(cek_angka(1, 2, 4))\n",
    "print(cek_angka(5, 5, 10))"
   ]
  },
  {
   "cell_type": "code",
   "execution_count": 12,
   "metadata": {},
   "outputs": [
    {
     "name": "stdout",
     "output_type": "stream",
     "text": [
      "True\n"
     ]
    }
   ],
   "source": [
    "def cek_digit_belakang(a, b, c):\n",
    "    # Ambil digit akhir dari setiap bilangan\n",
    "    digit_a = a % 10\n",
    "    digit_b = b % 10\n",
    "    digit_c = c % 10\n",
    "\n",
    "    # Periksa apakah minimal 2 digit terakhir sama\n",
    "    if digit_a == digit_b or digit_a == digit_c or digit_b == digit_c:\n",
    "        return True\n",
    "    else:\n",
    "        return False\n",
    "\n",
    "# Minta input dari user\n",
    "num1 = int(input(\"Masukkan bilangan pertama: \"))\n",
    "num2 = int(input(\"Masukkan bilangan kedua: \"))\n",
    "num3 = int(input(\"Masukkan bilangan ketiga: \"))\n",
    "\n",
    "print(cek_digit_belakang(num1, num2, num3))"
   ]
  },
  {
   "cell_type": "code",
   "execution_count": 13,
   "metadata": {},
   "outputs": [
    {
     "name": "stdout",
     "output_type": "stream",
     "text": [
      "Input C = 100, Output F = 212.0\n",
      "Input C = 80, Output R = 64.0\n",
      "Input C = 0, Output F = 32.0\n"
     ]
    }
   ],
   "source": [
    "#fungsi konversi Celcius to Fahrenheit menggunakan lambda\n",
    "celcius_to_fahrenheit = lambda c: (9/5) * c + 32\n",
    "\n",
    "#fungsi konversi Celcius to Reamur menggunakan lambda\n",
    "celcius_to_reamur = lambda c: 0.8 * c\n",
    "\n",
    "# Test case 1: Input C = 100\n",
    "print(f\"Input C = 100, Output F = {celcius_to_fahrenheit(100)}\")\n",
    "\n",
    "# Test case 2: Input C = 80\n",
    "print(f\"Input C = 80, Output R = {celcius_to_reamur(80)}\")\n",
    "\n",
    "# Test case 3: Input C = 0\n",
    "print(f\"Input C = 0, Output F = {celcius_to_fahrenheit(0)}\")"
   ]
  }
 ],
 "metadata": {
  "kernelspec": {
   "display_name": "Python 3",
   "language": "python",
   "name": "python3"
  },
  "language_info": {
   "codemirror_mode": {
    "name": "ipython",
    "version": 3
   },
   "file_extension": ".py",
   "mimetype": "text/x-python",
   "name": "python",
   "nbconvert_exporter": "python",
   "pygments_lexer": "ipython3",
   "version": "3.12.0"
  }
 },
 "nbformat": 4,
 "nbformat_minor": 2
}
